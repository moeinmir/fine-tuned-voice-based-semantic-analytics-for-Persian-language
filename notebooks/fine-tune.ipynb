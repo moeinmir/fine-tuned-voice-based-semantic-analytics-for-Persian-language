{
 "cells": [
  {
   "cell_type": "code",
   "execution_count": 4,
   "metadata": {},
   "outputs": [
    {
     "name": "stderr",
     "output_type": "stream",
     "text": [
      "/home/dbk/.local/lib/python3.10/site-packages/tqdm/auto.py:21: TqdmWarning: IProgress not found. Please update jupyter and ipywidgets. See https://ipywidgets.readthedocs.io/en/stable/user_install.html\n",
      "  from .autonotebook import tqdm as notebook_tqdm\n",
      "2025-04-09 13:25:05.510351: E external/local_xla/xla/stream_executor/cuda/cuda_fft.cc:477] Unable to register cuFFT factory: Attempting to register factory for plugin cuFFT when one has already been registered\n",
      "WARNING: All log messages before absl::InitializeLog() is called are written to STDERR\n",
      "E0000 00:00:1744192505.603908   25109 cuda_dnn.cc:8310] Unable to register cuDNN factory: Attempting to register factory for plugin cuDNN when one has already been registered\n",
      "E0000 00:00:1744192505.632540   25109 cuda_blas.cc:1418] Unable to register cuBLAS factory: Attempting to register factory for plugin cuBLAS when one has already been registered\n",
      "2025-04-09 13:25:05.795686: I tensorflow/core/platform/cpu_feature_guard.cc:210] This TensorFlow binary is optimized to use available CPU instructions in performance-critical operations.\n",
      "To enable the following instructions: AVX2 FMA, in other operations, rebuild TensorFlow with the appropriate compiler flags.\n"
     ]
    }
   ],
   "source": [
    "import os\n",
    "import sys\n",
    "from transformers import AutoFeatureExtractor, Wav2Vec2ForSequenceClassification, Trainer, TrainingArguments\n",
    "import torch\n",
    "import librosa\n",
    "import numpy as np\n",
    "from sklearn.model_selection import train_test_split\n",
    "import os\n",
    "import json\n",
    "import pandas as pd\n",
    "from sklearn.metrics import accuracy_score\n",
    "from tqdm import tqdm\n",
    "import gc\n",
    "\n",
    "CWD_PATH = os.getcwd()\n",
    "ROOT_PATH = os.path.join(CWD_PATH, '..')\n",
    "UTILS_PATH = os.path.join(ROOT_PATH, 'utils')\n",
    "DATASETS_BASE_PATH = os.path.join(ROOT_PATH, 'data')\n",
    "if UTILS_PATH not in sys.path:\n",
    "    sys.path.append(UTILS_PATH)\n",
    "\n",
    "LABELS_PATH = os.path.join(ROOT_PATH, 'labels')\n",
    "MODELS_PATH = os.path.join(ROOT_PATH, 'models')\n",
    "os.makedirs(LABELS_PATH, exist_ok=True)\n",
    "os.makedirs(MODELS_PATH, exist_ok=True)\n",
    "MODEL_NAME = \"superb/wav2vec2-base-superb-er\"\n",
    "AUDIO_MAX_LENGTH = 8 \n",
    "SAMPLE_RATE = 16000\n",
    "\n"
   ]
  },
  {
   "cell_type": "code",
   "execution_count": 5,
   "metadata": {},
   "outputs": [
    {
     "name": "stderr",
     "output_type": "stream",
     "text": [
      "/home/dbk/.local/lib/python3.10/site-packages/transformers/configuration_utils.py:315: UserWarning: Passing `gradient_checkpointing` to a config initialization is deprecated and will be removed in v5 Transformers. Using `model.gradient_checkpointing_enable()` instead, or if you are using the `Trainer` API, pass `gradient_checkpointing=True` in your `TrainingArguments`.\n",
      "  warnings.warn(\n"
     ]
    }
   ],
   "source": [
    "extractor = AutoFeatureExtractor.from_pretrained(MODEL_NAME)\n",
    "model = Wav2Vec2ForSequenceClassification.from_pretrained(\n",
    "    MODEL_NAME,\n",
    "    num_labels=4\n",
    ")\n",
    "id2label = model.config.id2label\n",
    "label2id = {v: k for k, v in id2label.items()}"
   ]
  },
  {
   "cell_type": "code",
   "execution_count": 8,
   "metadata": {},
   "outputs": [],
   "source": [
    "def load_and_validate_data(basePath, representationFilePath):\n",
    "    with open(representationFilePath, 'r', encoding='utf-8') as f:\n",
    "        metadata = json.load(f)    \n",
    "    paths, labels = [], []\n",
    "    for fileName, details in metadata.items():\n",
    "        filePath = os.path.join(basePath, details[\"path\"])\n",
    "        if os.path.exists(filePath):\n",
    "            try:\n",
    "                librosa.load(filePath, sr=SAMPLE_RATE, duration=1)\n",
    "                paths.append(filePath)\n",
    "                labels.append(details[\"emotion\"].lower())\n",
    "            except:\n",
    "                print(f\"Skipping corrupted file: {filePath}\")\n",
    "    return pd.DataFrame({'speech': paths, 'label': labels})\n",
    "\n",
    "def extract_features(file_path):\n",
    "    try:\n",
    "        audio, _ = librosa.load(file_path, sr=SAMPLE_RATE, duration=AUDIO_MAX_LENGTH)\n",
    "        inputs = extractor(\n",
    "            audio,\n",
    "            sampling_rate=SAMPLE_RATE,\n",
    "            return_tensors=\"pt\",\n",
    "            padding=\"max_length\",\n",
    "            max_length=SAMPLE_RATE*AUDIO_MAX_LENGTH,\n",
    "            truncation=True\n",
    "        )\n",
    "        return inputs.input_values[0].numpy()\n",
    "    except Exception as e:\n",
    "        print(f\"Error processing {file_path}: {str(e)}\")\n",
    "        return np.zeros(SAMPLE_RATE*AUDIO_MAX_LENGTH)  # Return silence if error\n",
    "\n",
    "def precompute_and_save_features(df, save_path):\n",
    "    features = []\n",
    "    for path in tqdm(df['speech'], desc=\"Extracting features\"):\n",
    "        features.append(extract_features(path))\n",
    "    np.save(save_path, np.array(features))\n",
    "\n",
    "class AudioFeaturesDataset(torch.utils.data.Dataset):\n",
    "    def __init__(self, features_path, labels):\n",
    "        self.features = np.load(features_path, mmap_mode='r')  # Memory-mapped for efficiency\n",
    "        self.labels = labels\n",
    "        \n",
    "    def __len__(self):\n",
    "        return len(self.labels)\n",
    "        \n",
    "    def __getitem__(self, idx):\n",
    "        return {\n",
    "            'input_values': torch.tensor(self.features[idx]),\n",
    "            'labels': torch.tensor(self.labels[idx])\n",
    "        }\n",
    "def compute_metrics(eval_pred):\n",
    "    logits, labels = eval_pred\n",
    "    predictions = np.argmax(logits, axis=-1)\n",
    "    return {\"accuracy\": accuracy_score(labels, predictions)}\n"
   ]
  },
  {
   "cell_type": "code",
   "execution_count": 9,
   "metadata": {},
   "outputs": [],
   "source": [
    "shemo_dataset_audio_files_path = os.path.join(DATASETS_BASE_PATH,'shemo/shemo')\n",
    "shemo_dataset_representation_file_path = os.path.join(DATASETS_BASE_PATH, 'shemo/modified_shemo.json')\n",
    "\n",
    "shemo_df = load_and_validate_data(\n",
    "    \"/home/dbk/voice-emotion/dataset/shemo\",\n",
    "    \"/home/dbk/voice-emotion/dataset/shemo/modified_shemo.json\"\n",
    ")"
   ]
  },
  {
   "cell_type": "code",
   "execution_count": 11,
   "metadata": {},
   "outputs": [],
   "source": [
    "label_mapping = {'happiness': 'hap', 'anger': 'ang', 'sadness': 'sad', 'neutral': 'neu'}\n",
    "shemo_df = shemo_df[shemo_df['label'].isin(label_mapping.keys())].copy()\n",
    "shemo_df['label'] = shemo_df['label'].map(label_mapping)\n",
    "shemo_df['label_id'] = shemo_df['label'].map(label2id)"
   ]
  },
  {
   "cell_type": "code",
   "execution_count": 12,
   "metadata": {},
   "outputs": [],
   "source": [
    "train_df, rest_df = train_test_split(shemo_df,test_size=0.8 , random_state=42)\n",
    "test_df = rest_df.groupby('label').head(100)"
   ]
  },
  {
   "cell_type": "code",
   "execution_count": null,
   "metadata": {},
   "outputs": [],
   "source": [
    "training_args = TrainingArguments(\n",
    "    output_dir=\"./results\",\n",
    "    evaluation_strategy=\"steps\",\n",
    "    eval_steps=500,\n",
    "    save_steps=500,\n",
    "    learning_rate=3e-5,\n",
    "    per_device_train_batch_size=4,\n",
    "    per_device_eval_batch_size=4,\n",
    "    num_train_epochs=3,\n",
    "    save_total_limit=2,\n",
    "    load_best_model_at_end=True,\n",
    "    fp16=True,\n",
    "    logging_steps=100,\n",
    "    report_to=\"none\",\n",
    "    dataloader_num_workers=2,\n",
    ")"
   ]
  }
 ],
 "metadata": {
  "kernelspec": {
   "display_name": "Python 3",
   "language": "python",
   "name": "python3"
  },
  "language_info": {
   "codemirror_mode": {
    "name": "ipython",
    "version": 3
   },
   "file_extension": ".py",
   "mimetype": "text/x-python",
   "name": "python",
   "nbconvert_exporter": "python",
   "pygments_lexer": "ipython3",
   "version": "3.10.12"
  }
 },
 "nbformat": 4,
 "nbformat_minor": 2
}
